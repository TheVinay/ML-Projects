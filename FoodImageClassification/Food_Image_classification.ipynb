{
 "cells": [
  {
   "cell_type": "markdown",
   "metadata": {
    "id": "oKjnFgP6WcvQ"
   },
   "source": [
    "# **Context** \n",
    "Image classification has become less complicated with deep learning and the availability of larger datasets and computational assets. The Convolution neural network is the most popular and extensively used image classification technique in the latest days.\n",
    "\n",
    "Clicks is a stock photography company and is an online source of images available for people and companies to download. Photographers from all over the world upload food-related images to the stock photography agency every day. Since the volume of the images that get uploaded daily will be high, it will be difficult for anyone to label the images manually. \n",
    "\n",
    "Clicks have decided to use only three categories of food (**`Bread`**, **`Soup`**, and  **`Vegetables-Fruits`**) for now, and you as a data scientist at Clicks, need to build a classification model using a dataset consisting of images that would help to label the images into different categories. \n",
    "\n",
    "\n",
    "## **Dataset**\n",
    "\n",
    "The dataset folder contains different food images. The images are already split into Training and Testing folders.\n",
    "Each folder has more four subfolders named **`Bread`**, **`Soup`**, and  **`Vegetables-Fruits`**. These folders have images of the respective classes.\n",
    "\n",
    "**Instructions** to access the data through Google Colab:\n",
    "\n",
    "Follow the below steps: \n",
    "\n",
    "1) Download the zip file from Olympus. \n",
    "\n",
    "2) Upload the file into your drive and unzip the folder using the code provided in notebook.\n",
    "\n",
    "3) Mount your Google Drive using the code below.\n",
    "\n",
    "NOTE: **Change the run time to GPU**\n",
    "\n",
    "\n",
    "```\n",
    "from google.colab import drive\n",
    "drive.mount('/content/drive')\n",
    "```\n",
    "\n",
    "\n",
    "4) Now, you can read the dataset as mentioned in the code below.\n",
    "\n",
    "\n",
    "\n",
    "\n",
    "\n"
   ]
  },
  {
   "cell_type": "markdown",
   "metadata": {
    "id": "I5UAEkLeCNGW"
   },
   "source": [
    "###Mount the Drive"
   ]
  },
  {
   "cell_type": "code",
   "execution_count": null,
   "metadata": {
    "colab": {
     "base_uri": "https://localhost:8080/"
    },
    "id": "mp7vaTMYudbr",
    "outputId": "387b0b98-4bb2-4582-81ab-ca43a6be2f27"
   },
   "outputs": [
    {
     "name": "stdout",
     "output_type": "stream",
     "text": [
      "Mounted at /content/drive\n"
     ]
    }
   ],
   "source": [
    "from google.colab import drive\n",
    "drive.mount('/content/drive')"
   ]
  },
  {
   "cell_type": "markdown",
   "metadata": {
    "id": "DYwUk9aWR46_"
   },
   "source": [
    "### **Importing the libraries**"
   ]
  },
  {
   "cell_type": "code",
   "execution_count": 48,
   "metadata": {
    "id": "KzWR3mlxMb54"
   },
   "outputs": [],
   "source": [
    "#Reading the training images from the path and labelling them into the given categories\n",
    "import numpy as np\n",
    "import pandas as pd\n",
    "import matplotlib.pyplot as plt\n",
    "import cv2 # this is an important module to get imported which may even cause issues while reading the data if not used\n",
    "import seaborn as sns # for data visualization \n",
    "import tensorflow as tf\n",
    "import keras\n",
    "import os\n",
    "from tensorflow.keras.models import Sequential #sequential api for sequential model \n",
    "from tensorflow.keras.layers import Dense, Dropout, Flatten #importing different layers \n",
    "from tensorflow.keras.layers import Conv2D, MaxPooling2D, BatchNormalization, Activation, Input, LeakyReLU,Activation\n",
    "from tensorflow.keras import backend \n",
    "from tensorflow.keras.utils import to_categorical #to perform one-hot encoding \n",
    "from tensorflow.keras.layers import Dense, Dropout, Flatten, Conv2D, MaxPool2D\n",
    "from tensorflow.keras.optimizers import RMSprop,Adam,SGD #optimiers for optimizing the model\n",
    "from tensorflow.keras.callbacks import EarlyStopping  #regularization method to prevent the overfitting\n",
    "from tensorflow.keras.callbacks import ModelCheckpoint\n",
    "from tensorflow.keras.models import Sequential, Model\n",
    "from tensorflow.keras import losses, optimizers\n",
    "#from google.colab.patches import cv2_imshow"
   ]
  },
  {
   "cell_type": "code",
   "execution_count": 19,
   "metadata": {
    "id": "KMBQLsOiwx2N"
   },
   "outputs": [
    {
     "name": "stdout",
     "output_type": "stream",
     "text": [
      "Defaulting to user installation because normal site-packages is not writeable\n",
      "Collecting a-cv2-imshow-thread\n",
      "  Downloading a_cv2_imshow_thread-0.11-py3-none-any.whl (5.8 kB)\n",
      "Requirement already satisfied: numpy in c:\\program files\\arcgis\\pro\\bin\\python\\envs\\arcgispro-py3\\lib\\site-packages (from a-cv2-imshow-thread) (1.20.1)\n",
      "Requirement already satisfied: opencv-python in c:\\users\\vina4764\\appdata\\roaming\\python\\python39\\site-packages (from a-cv2-imshow-thread) (4.7.0.72)\n",
      "Installing collected packages: a-cv2-imshow-thread\n",
      "Successfully installed a-cv2-imshow-thread-0.11\n"
     ]
    }
   ],
   "source": [
    "#!pip install cv2_plt_imshow\n",
    "!pip install a-cv2-imshow-thread"
   ]
  },
  {
   "cell_type": "code",
   "execution_count": 8,
   "metadata": {},
   "outputs": [],
   "source": [
    "#from cv2_plt_imshow import cv2_imshow"
   ]
  },
  {
   "cell_type": "code",
   "execution_count": null,
   "metadata": {
    "colab": {
     "base_uri": "https://localhost:8080/"
    },
    "id": "LJZ6mmsb2DGi",
    "outputId": "dccf0db2-1b3c-4c4a-e029-f71336187106"
   },
   "outputs": [],
   "source": [
    "#!unzip \"Food_Data.zip\""
   ]
  },
  {
   "cell_type": "code",
   "execution_count": 49,
   "metadata": {},
   "outputs": [],
   "source": [
    "from keras.preprocessing import image"
   ]
  },
  {
   "cell_type": "raw",
   "metadata": {
    "id": "smzrTqaBSDt5"
   },
   "source": [
    "### **Reading the Training Data**"
   ]
  },
  {
   "cell_type": "code",
   "execution_count": 50,
   "metadata": {
    "id": "rOIuj9WlOkNJ"
   },
   "outputs": [],
   "source": [
    "# Storing the training path in a variable named DATADIR, and storing the unique categories/labels in a list\n",
    "\n",
    "DATADIR = r\"c:\\Users\\vina4764\\Content\\Food_Data\\Training\"                                        # Path of training data after unzipping\n",
    "CATEGORIES = [\"Bread\",\"Soup\",\"Vegetable-Fruit\"]                                # Storing all the categories in categories variable\n",
    "IMG_SIZE=150                                                                   # Defining the size of the image to 150    "
   ]
  },
  {
   "cell_type": "code",
   "execution_count": 51,
   "metadata": {
    "id": "d3gLIZA_2mma"
   },
   "outputs": [],
   "source": [
    "# Here we will be using a user defined function create_training_data() to extract the images from the directory\n",
    "training_data = []                                                             # Storing all the training images\n",
    "def create_training_data():\n",
    "    for category in CATEGORIES:                                                # Looping over each category from the CATEGORIES list\n",
    "        path = os.path.join(DATADIR,category)                                  # Joining images with labels\n",
    "        class_num = category                                                   \n",
    "        for img in os.listdir(path):                                           \n",
    "          img_array = cv2.imread(os.path.join(path,img))                       # Reading the data\n",
    "          new_array = cv2.resize(img_array,(IMG_SIZE,IMG_SIZE))                # Resizing the images \n",
    "          training_data.append([new_array,class_num])                          # Appending both the images and labels\n",
    "create_training_data()"
   ]
  },
  {
   "cell_type": "markdown",
   "metadata": {
    "id": "aOzq2maeXxUg"
   },
   "source": [
    "### **Reading the Testing Dataset**\n"
   ]
  },
  {
   "cell_type": "code",
   "execution_count": 52,
   "metadata": {
    "id": "Hjy4-7uLP2PD"
   },
   "outputs": [],
   "source": [
    "DATADIR_test = r\"c:\\Users\\vina4764\\Content\\Food_Data\\Testing\"                                    # Path of training data after unzipping\n",
    "CATEGORIES =  [\"Bread\",\"Soup\",\"Vegetable-Fruit\"]                               # Storing all the categories in categories variable\n",
    "IMG_SIZE=150                                                                   # Defining the size of the image to 150"
   ]
  },
  {
   "cell_type": "code",
   "execution_count": 53,
   "metadata": {
    "id": "HO7Wo6jHWkE_"
   },
   "outputs": [],
   "source": [
    "# Here we will be using a user defined function create_testing_data() to extract the images from the directory\n",
    "testing_data = []\n",
    "\n",
    "def create_testing_data():                                                     # Storing all the testing images\n",
    "    for category in CATEGORIES:                                                # Looping over each category from the CATEGORIES list\n",
    "        path = os.path.join(DATADIR_test,category)                             # Joining images with labels     \n",
    "        class_num = category\n",
    "        for img in os.listdir(path):                                           \n",
    "          img_array = cv2.imread(os.path.join(path,img))                       # Reading the data\n",
    "          new_array = cv2.resize(img_array,(IMG_SIZE,IMG_SIZE))                # Resizing the images\n",
    "          testing_data.append([new_array,class_num])                           # Appending both the images and labels\n",
    "\n",
    "create_testing_data()"
   ]
  },
  {
   "cell_type": "markdown",
   "metadata": {
    "id": "Z7vzDL7yQqyh"
   },
   "source": [
    "**Let's visualize images randomly from each of the four classes.** \n",
    "\n",
    "\n"
   ]
  },
  {
   "cell_type": "code",
   "execution_count": 54,
   "metadata": {
    "id": "BRfPP-hi1mat"
   },
   "outputs": [],
   "source": [
    "# Creating 4 different lists to store the image names for each category by reading them from their respective directories. \n",
    "bread_imgs = [fn for fn in os.listdir(f'{DATADIR}/{CATEGORIES[0]}') ]          # Looping over the path of each image from the bread directory\n",
    "soup_imgs = [fn for fn in os.listdir(f'{DATADIR}/{CATEGORIES[1]}')]            # Looping over the path of each image from the soup directory\n",
    "veg_fruit_imgs = [fn for fn in os.listdir(f'{DATADIR}/{CATEGORIES[2]}') ]      # Looping over the path of each image from the vegetables-fruit directory\n",
    "     \n",
    "\n",
    "\n",
    "# Ranodmly selecting 3 images from each category\n",
    "select_bread = np.random.choice(bread_imgs, 3, replace = False)               \n",
    "select_soup = np.random.choice(soup_imgs, 3, replace = False)\n",
    "select_veg_fruit = np.random.choice(veg_fruit_imgs, 3, replace = False)"
   ]
  },
  {
   "cell_type": "code",
   "execution_count": 55,
   "metadata": {
    "colab": {
     "base_uri": "https://localhost:8080/",
     "height": 449
    },
    "id": "IdqDkn4w1v7J",
    "outputId": "8f5b9cc4-8309-435a-e39f-1673500693e4"
   },
   "outputs": [
    {
     "ename": "ValueError",
     "evalue": "num must be 1 <= num <= 12, not <tf.Tensor: shape=(), dtype=int32, numpy=1>",
     "output_type": "error",
     "traceback": [
      "\u001b[1;31m---------------------------------------------------------------------------\u001b[0m",
      "\u001b[1;31mValueError\u001b[0m                                Traceback (most recent call last)",
      "\u001b[1;32m~\\AppData\\Local\\Temp\\1\\ipykernel_19208\\3452760373.py\u001b[0m in \u001b[0;36m<cell line: 5>\u001b[1;34m()\u001b[0m\n\u001b[0;32m     13\u001b[0m         \u001b[0mfp\u001b[0m \u001b[1;33m=\u001b[0m \u001b[1;34mf'{DATADIR}/{CATEGORIES[2]}/{select_veg_fruit[i-6]}'\u001b[0m              \u001b[1;31m# Here datadir is a path to the training data and categories[2] indicate the third label vegetables-fruit and here we are looping over to take the three random images that we have stored in select_no_t variable\u001b[0m\u001b[1;33m\u001b[0m\u001b[1;33m\u001b[0m\u001b[0m\n\u001b[0;32m     14\u001b[0m         \u001b[0mlabel\u001b[0m \u001b[1;33m=\u001b[0m \u001b[1;34m'Vegetable_Fruit'\u001b[0m\u001b[1;33m\u001b[0m\u001b[1;33m\u001b[0m\u001b[0m\n\u001b[1;32m---> 15\u001b[1;33m     \u001b[0max\u001b[0m \u001b[1;33m=\u001b[0m \u001b[0mfig\u001b[0m\u001b[1;33m.\u001b[0m\u001b[0madd_subplot\u001b[0m\u001b[1;33m(\u001b[0m\u001b[1;36m4\u001b[0m\u001b[1;33m,\u001b[0m \u001b[1;36m3\u001b[0m\u001b[1;33m,\u001b[0m \u001b[0mi\u001b[0m\u001b[1;33m+\u001b[0m\u001b[1;36m1\u001b[0m\u001b[1;33m)\u001b[0m\u001b[1;33m\u001b[0m\u001b[1;33m\u001b[0m\u001b[0m\n\u001b[0m\u001b[0;32m     16\u001b[0m \u001b[1;33m\u001b[0m\u001b[0m\n\u001b[0;32m     17\u001b[0m     \u001b[1;31m# Plotting each image using load_img function\u001b[0m\u001b[1;33m\u001b[0m\u001b[1;33m\u001b[0m\u001b[0m\n",
      "\u001b[1;32mC:\\Program Files\\ArcGIS\\Pro\\bin\\Python\\envs\\arcgispro-py3\\lib\\site-packages\\matplotlib\\figure.py\u001b[0m in \u001b[0;36madd_subplot\u001b[1;34m(self, *args, **kwargs)\u001b[0m\n\u001b[0;32m    743\u001b[0m             projection_class, pkw = self._process_projection_requirements(\n\u001b[0;32m    744\u001b[0m                 *args, **kwargs)\n\u001b[1;32m--> 745\u001b[1;33m             \u001b[0max\u001b[0m \u001b[1;33m=\u001b[0m \u001b[0msubplot_class_factory\u001b[0m\u001b[1;33m(\u001b[0m\u001b[0mprojection_class\u001b[0m\u001b[1;33m)\u001b[0m\u001b[1;33m(\u001b[0m\u001b[0mself\u001b[0m\u001b[1;33m,\u001b[0m \u001b[1;33m*\u001b[0m\u001b[0margs\u001b[0m\u001b[1;33m,\u001b[0m \u001b[1;33m**\u001b[0m\u001b[0mpkw\u001b[0m\u001b[1;33m)\u001b[0m\u001b[1;33m\u001b[0m\u001b[1;33m\u001b[0m\u001b[0m\n\u001b[0m\u001b[0;32m    746\u001b[0m             \u001b[0mkey\u001b[0m \u001b[1;33m=\u001b[0m \u001b[1;33m(\u001b[0m\u001b[0mprojection_class\u001b[0m\u001b[1;33m,\u001b[0m \u001b[0mpkw\u001b[0m\u001b[1;33m)\u001b[0m\u001b[1;33m\u001b[0m\u001b[1;33m\u001b[0m\u001b[0m\n\u001b[0;32m    747\u001b[0m         \u001b[1;32mreturn\u001b[0m \u001b[0mself\u001b[0m\u001b[1;33m.\u001b[0m\u001b[0m_add_axes_internal\u001b[0m\u001b[1;33m(\u001b[0m\u001b[0max\u001b[0m\u001b[1;33m,\u001b[0m \u001b[0mkey\u001b[0m\u001b[1;33m)\u001b[0m\u001b[1;33m\u001b[0m\u001b[1;33m\u001b[0m\u001b[0m\n",
      "\u001b[1;32mC:\\Program Files\\ArcGIS\\Pro\\bin\\Python\\envs\\arcgispro-py3\\lib\\site-packages\\matplotlib\\axes\\_subplots.py\u001b[0m in \u001b[0;36m__init__\u001b[1;34m(self, fig, *args, **kwargs)\u001b[0m\n\u001b[0;32m     34\u001b[0m         \u001b[0mself\u001b[0m\u001b[1;33m.\u001b[0m\u001b[0m_axes_class\u001b[0m\u001b[1;33m.\u001b[0m\u001b[0m__init__\u001b[0m\u001b[1;33m(\u001b[0m\u001b[0mself\u001b[0m\u001b[1;33m,\u001b[0m \u001b[0mfig\u001b[0m\u001b[1;33m,\u001b[0m \u001b[1;33m[\u001b[0m\u001b[1;36m0\u001b[0m\u001b[1;33m,\u001b[0m \u001b[1;36m0\u001b[0m\u001b[1;33m,\u001b[0m \u001b[1;36m1\u001b[0m\u001b[1;33m,\u001b[0m \u001b[1;36m1\u001b[0m\u001b[1;33m]\u001b[0m\u001b[1;33m,\u001b[0m \u001b[1;33m**\u001b[0m\u001b[0mkwargs\u001b[0m\u001b[1;33m)\u001b[0m\u001b[1;33m\u001b[0m\u001b[1;33m\u001b[0m\u001b[0m\n\u001b[0;32m     35\u001b[0m         \u001b[1;31m# This will also update the axes position.\u001b[0m\u001b[1;33m\u001b[0m\u001b[1;33m\u001b[0m\u001b[0m\n\u001b[1;32m---> 36\u001b[1;33m         \u001b[0mself\u001b[0m\u001b[1;33m.\u001b[0m\u001b[0mset_subplotspec\u001b[0m\u001b[1;33m(\u001b[0m\u001b[0mSubplotSpec\u001b[0m\u001b[1;33m.\u001b[0m\u001b[0m_from_subplot_args\u001b[0m\u001b[1;33m(\u001b[0m\u001b[0mfig\u001b[0m\u001b[1;33m,\u001b[0m \u001b[0margs\u001b[0m\u001b[1;33m)\u001b[0m\u001b[1;33m)\u001b[0m\u001b[1;33m\u001b[0m\u001b[1;33m\u001b[0m\u001b[0m\n\u001b[0m\u001b[0;32m     37\u001b[0m \u001b[1;33m\u001b[0m\u001b[0m\n\u001b[0;32m     38\u001b[0m     \u001b[1;32mdef\u001b[0m \u001b[0mget_subplotspec\u001b[0m\u001b[1;33m(\u001b[0m\u001b[0mself\u001b[0m\u001b[1;33m)\u001b[0m\u001b[1;33m:\u001b[0m\u001b[1;33m\u001b[0m\u001b[1;33m\u001b[0m\u001b[0m\n",
      "\u001b[1;32mC:\\Program Files\\ArcGIS\\Pro\\bin\\Python\\envs\\arcgispro-py3\\lib\\site-packages\\matplotlib\\gridspec.py\u001b[0m in \u001b[0;36m_from_subplot_args\u001b[1;34m(figure, args)\u001b[0m\n\u001b[0;32m    610\u001b[0m         \u001b[1;32melse\u001b[0m\u001b[1;33m:\u001b[0m\u001b[1;33m\u001b[0m\u001b[1;33m\u001b[0m\u001b[0m\n\u001b[0;32m    611\u001b[0m             \u001b[1;32mif\u001b[0m \u001b[1;32mnot\u001b[0m \u001b[0misinstance\u001b[0m\u001b[1;33m(\u001b[0m\u001b[0mnum\u001b[0m\u001b[1;33m,\u001b[0m \u001b[0mIntegral\u001b[0m\u001b[1;33m)\u001b[0m \u001b[1;32mor\u001b[0m \u001b[0mnum\u001b[0m \u001b[1;33m<\u001b[0m \u001b[1;36m1\u001b[0m \u001b[1;32mor\u001b[0m \u001b[0mnum\u001b[0m \u001b[1;33m>\u001b[0m \u001b[0mrows\u001b[0m\u001b[1;33m*\u001b[0m\u001b[0mcols\u001b[0m\u001b[1;33m:\u001b[0m\u001b[1;33m\u001b[0m\u001b[1;33m\u001b[0m\u001b[0m\n\u001b[1;32m--> 612\u001b[1;33m                 raise ValueError(\n\u001b[0m\u001b[0;32m    613\u001b[0m                     f\"num must be 1 <= num <= {rows*cols}, not {num!r}\")\n\u001b[0;32m    614\u001b[0m             \u001b[0mi\u001b[0m \u001b[1;33m=\u001b[0m \u001b[0mj\u001b[0m \u001b[1;33m=\u001b[0m \u001b[0mnum\u001b[0m\u001b[1;33m\u001b[0m\u001b[1;33m\u001b[0m\u001b[0m\n",
      "\u001b[1;31mValueError\u001b[0m: num must be 1 <= num <= 12, not <tf.Tensor: shape=(), dtype=int32, numpy=1>"
     ]
    },
    {
     "data": {
      "text/plain": [
       "<Figure size 1000x1000 with 0 Axes>"
      ]
     },
     "metadata": {},
     "output_type": "display_data"
    }
   ],
   "source": [
    "\n",
    "# plotting 4 x 3 image matrix\n",
    "fig = plt.figure(figsize = (10,10))\n",
    "\n",
    "# Plotting three images from each of the four categories by looping through their path \n",
    "for i in range(9):\n",
    "    if i < 3:\n",
    "        fp = f'{DATADIR}/{CATEGORIES[0]}/{select_bread[i]}'                    # Here datadir is a path to the training data and categories[0] indicate the first label bread and here we are looping over to take the three random images that we have stored in select_galo variable \n",
    "        label = 'Bread'                                                 \n",
    "    if i>=3 and i<6:\n",
    "        fp = f'{DATADIR}/{CATEGORIES[1]}/{select_soup[i-3]}'                   # Here datadir is a path to the training data and categories[1] indicate the second label soup and here we are looping over to take the three random images that we have stored in select_menin variable \n",
    "        label = 'Soup' \n",
    "    if i>=6 and i<9:\n",
    "        fp = f'{DATADIR}/{CATEGORIES[2]}/{select_veg_fruit[i-6]}'              # Here datadir is a path to the training data and categories[2] indicate the third label vegetables-fruit and here we are looping over to take the three random images that we have stored in select_no_t variable \n",
    "        label = 'Vegetable_Fruit'\n",
    "    ax = fig.add_subplot(4, 3, i+1)\n",
    "    \n",
    "    # Plotting each image using load_img function\n",
    "    fn = image.load_img(fp, target_size = (150,150))\n",
    "    plt.imshow(fn, cmap='Greys_r')\n",
    "    plt.title(label)\n",
    "    plt.axis('off')\n",
    "plt.show()"
   ]
  },
  {
   "cell_type": "markdown",
   "metadata": {
    "id": "Wxmm9eZPYKEw"
   },
   "source": [
    "### **Data Preprocessing** "
   ]
  },
  {
   "cell_type": "code",
   "execution_count": null,
   "metadata": {
    "id": "bSfeBdl527nK"
   },
   "outputs": [],
   "source": [
    "# Creating two different lists to store the Numpy arrays and the corresponding labels\n",
    "X_train = []                                                                   \n",
    "y_train = []\n",
    "np.random.shuffle(training_data)                                               # Shuffling data to reduce variance and making sure that model remains general and overfit less\n",
    "for features,label in training_data:                                           # Iterating over the training data which is generated from the create_training_data() function \n",
    "    X_train.append(features)                                                   # Appending images into X_train\n",
    "    y_train.append(label)                                                      # Appending labels into y_train"
   ]
  },
  {
   "cell_type": "code",
   "execution_count": null,
   "metadata": {
    "id": "bVEJpQuaYw72"
   },
   "outputs": [],
   "source": [
    "# Creating two different lists to store the Numpy arrays and the corresponding labels\n",
    "X_test = []\n",
    "y_test = []\n",
    "\n",
    "np.random.shuffle(testing_data)                                                # Shuffling data to reduce variance and making sure that model remains general and overfit less\n",
    "for features,label in testing_data:                                            # Iterating over the training data which is generated from the create_testing_data() function\n",
    "    X_test.append(features)                                                    # Appending images into X_train\n",
    "    y_test.append(label)                                                       # Appending labels into y_train"
   ]
  },
  {
   "cell_type": "code",
   "execution_count": null,
   "metadata": {
    "id": "jCtaXu_iO3XS"
   },
   "outputs": [],
   "source": [
    "# Converting the list into DataFrame\n",
    "y_train = pd.DataFrame(y_train, columns=[\"Label\"],dtype=object) \n",
    "y_test = pd.DataFrame(y_test, columns=[\"Label\"],dtype=object)"
   ]
  },
  {
   "cell_type": "markdown",
   "metadata": {
    "id": "lDLQnsaTOdBl"
   },
   "source": [
    "### **Exploratory Data Analysis**"
   ]
  },
  {
   "cell_type": "code",
   "execution_count": null,
   "metadata": {
    "colab": {
     "base_uri": "https://localhost:8080/"
    },
    "id": "U9jLyglwNkEJ",
    "outputId": "088bc224-d3bd-4f39-a849-fd37c6071b06"
   },
   "outputs": [],
   "source": [
    "# Storing the value counts of target variable\n",
    "count=y_train.Label.value_counts()\n",
    "print(count)\n",
    "print('*'*10)\n",
    "count=y_train.Label.value_counts(normalize=True)\n",
    "print(count)"
   ]
  },
  {
   "cell_type": "code",
   "execution_count": null,
   "metadata": {
    "id": "85AIbwbicR9X"
   },
   "outputs": [],
   "source": [
    "# Converting the pixel values into Numpy array\n",
    "X_train= np.array(X_train) \n",
    "X_test= np.array(X_test) "
   ]
  },
  {
   "cell_type": "code",
   "execution_count": null,
   "metadata": {
    "colab": {
     "base_uri": "https://localhost:8080/"
    },
    "id": "Y3qrf7USZMDt",
    "outputId": "ca284698-07fb-427e-c724-661ea7f31922"
   },
   "outputs": [],
   "source": [
    "X_train.shape"
   ]
  },
  {
   "cell_type": "markdown",
   "metadata": {
    "id": "GZ9fKIYY5AU5"
   },
   "source": [
    "**NOTE**\n",
    "\n",
    "Images are digitally respresented in the form of numpy arrays which can be observed from the X_train values generated above, so it is possible to perform all the preprocessing operations and build our CNN model using numpy arrays directly. So, even if the data is provided in the form of numpy arrays rather than images, we can use this to work on our model. \n",
    "\n"
   ]
  },
  {
   "cell_type": "markdown",
   "metadata": {
    "id": "4ktyUJDxV7UP"
   },
   "source": [
    "Since the given data is stored in X_train, X_test,y_train, and y_test variables, there is no need to split the data further. "
   ]
  },
  {
   "cell_type": "markdown",
   "metadata": {
    "id": "RNELb5irAm1a"
   },
   "source": [
    "**Normalizing the data**"
   ]
  },
  {
   "cell_type": "markdown",
   "metadata": {
    "id": "5uvUxN3j6ltu"
   },
   "source": [
    "In neural networks, it is always suggested to **normalize the feature inputs**. Normalization has the below benefits while training a neural networks model: \n",
    "\n",
    "1. **Normalization makes the training faster and reduces the chances of getting stuck at local optima.**\n",
    "2. In deep neural networks, **normalization helps to avoid exploding gradient problems.** Gradient exploding problem occurs when large error gradients accumulate and result in very large updates to neural network model weights during training. This makes a model unstable and unable to learn from the training data.\n",
    "\n",
    "As we know image pixel **values range from 0-255**, here we are simply **dividing all the pixel values by 255 to standardize all the images to have values between 0-1.**"
   ]
  },
  {
   "cell_type": "code",
   "execution_count": null,
   "metadata": {
    "id": "8nq0-Ir0XlJm"
   },
   "outputs": [],
   "source": [
    "## Normalizing the image data \n",
    "X_train= X_train/255.0"
   ]
  },
  {
   "cell_type": "markdown",
   "metadata": {
    "id": "Ovi1wCXxUEW-"
   },
   "source": [
    "### **Encoding Target Variable**"
   ]
  },
  {
   "cell_type": "markdown",
   "metadata": {
    "id": "HjiRVVHuCfhH"
   },
   "source": [
    "LabelBinarizer is another technique used to encode the target variables which reduces the sparsity as compared to one hot encoder. You can also look into the documentation [here](https://scikit-learn.org/stable/modules/generated/sklearn.preprocessing.LabelBinarizer.html)."
   ]
  },
  {
   "cell_type": "markdown",
   "metadata": {
    "id": "aOPJYpXs7qE8"
   },
   "source": [
    "For Example:\n",
    "If we have 4 classes as \"Good\",\"Better\",\"Okay\",\"Bad\". \n",
    "After applying LabelBinarizer on these 4 classes, the output result will be in the form of array.\n",
    "* [1, 0, 0, 0] --------- Good\n",
    "* [0, 1, 0, 0] --------- Better\n",
    "* [0, 0, 1, 0] --------- Okay\n",
    "* [0, 0, 0, 1] --------- Bad\n",
    "\n",
    "Each class will be represented in the form of array\n",
    "\n",
    "\n"
   ]
  },
  {
   "cell_type": "code",
   "execution_count": null,
   "metadata": {
    "id": "58dRjnj7VcHz"
   },
   "outputs": [],
   "source": [
    "from sklearn.preprocessing import LabelBinarizer\n",
    "# Storing the LabelBinarizer function in lb variable\n",
    "lb = LabelBinarizer() \n",
    "# Applying fit_transform on train target variable\n",
    "y_train_e = lb.fit_transform(y_train)\n",
    "# Applying only transform on test target variable\n",
    "y_test_e = lb.transform(y_test)"
   ]
  },
  {
   "cell_type": "markdown",
   "metadata": {
    "id": "PfG4f-_KTJaJ"
   },
   "source": [
    "### **Model Building** \n",
    "\n",
    "- **CNN** (Convolutional Neural Network)"
   ]
  },
  {
   "cell_type": "markdown",
   "metadata": {
    "id": "6OE0q4V_UtUM"
   },
   "source": [
    "#### **Convolutional Neural Network (CNN)**\n",
    "\n",
    "**Model 1:**"
   ]
  },
  {
   "cell_type": "code",
   "execution_count": 56,
   "metadata": {
    "id": "DG9c2rdkGHbV"
   },
   "outputs": [],
   "source": [
    "from tensorflow.keras import backend\n",
    "backend.clear_session()\n",
    "#Fixing the seed for random number generators so that we can ensure we receive the same output everytime\n",
    "np.random.seed(42)\n",
    "import random\n",
    "random.seed(42)\n",
    "tf.random.set_seed(42)"
   ]
  },
  {
   "cell_type": "markdown",
   "metadata": {
    "id": "GcV6EyOcP0J6"
   },
   "source": [
    "* **Filters**: 256- Number of filters in the first hidden layer.This is also called as **Kernel**\n",
    "* **Kernel_Size**: The kernel size here refers to the widthxheight of the filter mask. The kernel_size must be an odd integer as well. Typical values for kernel_size include: (1, 1) , (3, 3) , (5, 5) , (7, 7)\n",
    "* **Padding**: The padding type is called SAME because the output size is the same as the input size(when stride=1). Using 'SAME' ensures that the filter is applied to all the elements of the input. Normally, padding is set to \"SAME\" while training the model. Output size is mathematically convenient for further computation.\n",
    "* **MaxPool2D**: Max Pooling is a pooling operation that calculates the maximum value for patches of a feature map, and uses it to create a downsampled (pooled) feature map. It is usually used after a convolutional layer.\n",
    "* **Flatten**: Flattening is converting the data into a 1-dimensional array for inputting it to the next layer. We flatten the output of the convolutional layers to create a single long feature vector. And it is connected to the final classification model, which is called a fully-connected layer."
   ]
  },
  {
   "cell_type": "code",
   "execution_count": 57,
   "metadata": {
    "colab": {
     "base_uri": "https://localhost:8080/"
    },
    "id": "9rzadJ70kQmG",
    "outputId": "e565666e-7c3c-4c5e-c061-55b0b3001f60"
   },
   "outputs": [
    {
     "name": "stdout",
     "output_type": "stream",
     "text": [
      "Model: \"sequential\"\n",
      "_________________________________________________________________\n",
      " Layer (type)                Output Shape              Param #   \n",
      "=================================================================\n",
      " conv2d (Conv2D)             (None, 150, 150, 64)      1792      \n",
      "                                                                 \n",
      " max_pooling2d (MaxPooling2D  (None, 75, 75, 64)       0         \n",
      " )                                                               \n",
      "                                                                 \n",
      " conv2d_1 (Conv2D)           (None, 75, 75, 32)        18464     \n",
      "                                                                 \n",
      " max_pooling2d_1 (MaxPooling  (None, 38, 38, 32)       0         \n",
      " 2D)                                                             \n",
      "                                                                 \n",
      " conv2d_2 (Conv2D)           (None, 38, 38, 32)        9248      \n",
      "                                                                 \n",
      " max_pooling2d_2 (MaxPooling  (None, 19, 19, 32)       0         \n",
      " 2D)                                                             \n",
      "                                                                 \n",
      " flatten (Flatten)           (None, 11552)             0         \n",
      "                                                                 \n",
      " dense (Dense)               (None, 100)               1155300   \n",
      "                                                                 \n",
      " dense_1 (Dense)             (None, 3)                 303       \n",
      "                                                                 \n",
      "=================================================================\n",
      "Total params: 1,185,107\n",
      "Trainable params: 1,185,107\n",
      "Non-trainable params: 0\n",
      "_________________________________________________________________\n"
     ]
    }
   ],
   "source": [
    "# Intializing a sequential model\n",
    "model = Sequential()\n",
    "\n",
    "# Adding first conv layer with 64 filters and kernel size 3x3 , padding 'same' provides the output size same as the input size\n",
    "# Input_shape denotes input image dimension of MNIST images\n",
    "model.add(Conv2D(64, (3, 3), activation='relu', padding=\"same\", input_shape=(150,150,3)))\n",
    "\n",
    "# Adding max pooling to reduce the size of output of first conv layer\n",
    "model.add(MaxPooling2D((2, 2), padding = 'same'))\n",
    "\n",
    "model.add(Conv2D(32, (3, 3), activation='relu', padding=\"same\"))\n",
    "model.add(MaxPooling2D((2, 2), padding = 'same'))\n",
    "model.add(Conv2D(32, (3, 3), activation='relu', padding=\"same\"))\n",
    "model.add(MaxPooling2D((2, 2), padding = 'same'))\n",
    "\n",
    "# flattening the output of the conv layer after max pooling to make it ready for creating dense connections\n",
    "model.add(Flatten())\n",
    "\n",
    "# Adding a fully connected dense layer with 100 neurons    \n",
    "model.add(Dense(100, activation='relu'))\n",
    "\n",
    "# Adding the output layer with 10 neurons and activation functions as softmax since this is a multi-class classification problem  \n",
    "model.add(Dense(3, activation='softmax'))\n",
    "\n",
    "# Using SGD Optimizer\n",
    "opt = SGD(learning_rate=0.01, momentum=0.9)\n",
    "\n",
    "# Compile model\n",
    "model.compile(optimizer=opt, loss='categorical_crossentropy', metrics=['accuracy'])\n",
    "\n",
    "# Generating the summary of the model\n",
    "model.summary()"
   ]
  },
  {
   "cell_type": "markdown",
   "metadata": {
    "id": "BOmL8uRDEB9j"
   },
   "source": [
    "1. If the problem is having three classes to predict, then the neurons in the output layer will be 3. \n",
    "\n",
    "**model.add(Dense(3,activation = \"softmax\")**\n",
    "\n",
    "2. If the problem is having 10 classes to predict, then the neurons in the output layer will be 10. \n",
    "\n",
    "**model.add(Dense(10,activation = \"softmax\")**"
   ]
  },
  {
   "cell_type": "markdown",
   "metadata": {
    "id": "I1Bl5GChEzXn"
   },
   "source": [
    "As we can see from the above summary, this CNN model will train and learn **1,185,107 parameters (weights and biases).**"
   ]
  },
  {
   "cell_type": "markdown",
   "metadata": {
    "id": "ItK8WiU9FQ3u"
   },
   "source": [
    "Let's now compile and train the model using the train data. Here, we are using the loss function - categorical_crossentropy as this is a multi-class classification problem. We will try to minimize this loss at every iteration using the optimizer of our choice. Also, we are choosing accuracy as the metric to measure the performance of the model."
   ]
  },
  {
   "cell_type": "markdown",
   "metadata": {
    "id": "jYAe_AegArSc"
   },
   "source": [
    "**Early stopping** is a technique similar to cross-validation where a part of training data is kept as the validation data. When the performance of the validation data starts worsening, the model will immediately stop the training.\n",
    "- **Monitor**: Quantity to be monitored.\n",
    "- **Mode**: One of {\"auto\", \"min\", \"max\"}. In min mode, training will stop when the quantity monitored has stopped decreasing; in \"max\" mode it will stop when the quantity monitored has stopped increasing; in \"auto\" mode, the direction is automatically inferred from the name of the monitored quantity.\n",
    "- **Patience**: Number of epochs with no improvement after which training will be stopped.\n",
    "\n",
    "**ModelCheckpoint** callback is used in conjunction with training using a model. fit() to save a model or weights (in a checkpoint file) at some interval, so the model or weights can be loaded later to continue the training from the state saved."
   ]
  },
  {
   "cell_type": "code",
   "execution_count": 64,
   "metadata": {},
   "outputs": [
    {
     "data": {
      "text/plain": [
       "''"
      ]
     },
     "execution_count": 64,
     "metadata": {},
     "output_type": "execute_result"
    }
   ],
   "source": [
    "os.environ['CUDA_VISIBLE_DEVICES'] = '2'\n",
    "CUDA_VISIBLE_DEVICES"
   ]
  },
  {
   "cell_type": "code",
   "execution_count": 65,
   "metadata": {
    "colab": {
     "base_uri": "https://localhost:8080/"
    },
    "id": "KyHFcuTxPjZi",
    "outputId": "e89234b8-dd03-49aa-cb23-2a9f7679ce74"
   },
   "outputs": [
    {
     "ename": "InternalError",
     "evalue": "Failed copying input tensor from /job:localhost/replica:0/task:0/device:CPU:0 to /job:localhost/replica:0/task:0/device:GPU:0 in order to run _EagerConst: Dst tensor is not initialized.",
     "output_type": "error",
     "traceback": [
      "\u001b[1;31m---------------------------------------------------------------------------\u001b[0m",
      "\u001b[1;31mInternalError\u001b[0m                             Traceback (most recent call last)",
      "\u001b[1;32m~\\AppData\\Local\\Temp\\1\\ipykernel_19208\\2382793456.py\u001b[0m in \u001b[0;36m<cell line: 4>\u001b[1;34m()\u001b[0m\n\u001b[0;32m      2\u001b[0m \u001b[0mmc\u001b[0m \u001b[1;33m=\u001b[0m \u001b[0mModelCheckpoint\u001b[0m\u001b[1;33m(\u001b[0m\u001b[1;34m'best_model.h5'\u001b[0m\u001b[1;33m,\u001b[0m \u001b[0mmonitor\u001b[0m\u001b[1;33m=\u001b[0m\u001b[1;34m'val_accuracy'\u001b[0m\u001b[1;33m,\u001b[0m \u001b[0mmode\u001b[0m\u001b[1;33m=\u001b[0m\u001b[1;34m'max'\u001b[0m\u001b[1;33m,\u001b[0m \u001b[0mverbose\u001b[0m\u001b[1;33m=\u001b[0m\u001b[1;36m1\u001b[0m\u001b[1;33m,\u001b[0m \u001b[0msave_best_only\u001b[0m\u001b[1;33m=\u001b[0m\u001b[1;32mTrue\u001b[0m\u001b[1;33m)\u001b[0m\u001b[1;33m\u001b[0m\u001b[1;33m\u001b[0m\u001b[0m\n\u001b[0;32m      3\u001b[0m \u001b[1;31m# Fitting the model with 30 epochs and validation_split as 10%\u001b[0m\u001b[1;33m\u001b[0m\u001b[1;33m\u001b[0m\u001b[0m\n\u001b[1;32m----> 4\u001b[1;33m history=model.fit(X_train, \n\u001b[0m\u001b[0;32m      5\u001b[0m           \u001b[0my_train_e\u001b[0m\u001b[1;33m,\u001b[0m\u001b[1;33m\u001b[0m\u001b[1;33m\u001b[0m\u001b[0m\n\u001b[0;32m      6\u001b[0m           \u001b[0mepochs\u001b[0m\u001b[1;33m=\u001b[0m\u001b[1;36m20\u001b[0m\u001b[1;33m,\u001b[0m\u001b[1;33m\u001b[0m\u001b[1;33m\u001b[0m\u001b[0m\n",
      "\u001b[1;32mC:\\Program Files\\ArcGIS\\Pro\\bin\\Python\\envs\\arcgispro-py3\\lib\\site-packages\\keras\\utils\\traceback_utils.py\u001b[0m in \u001b[0;36merror_handler\u001b[1;34m(*args, **kwargs)\u001b[0m\n\u001b[0;32m     65\u001b[0m     \u001b[1;32mexcept\u001b[0m \u001b[0mException\u001b[0m \u001b[1;32mas\u001b[0m \u001b[0me\u001b[0m\u001b[1;33m:\u001b[0m  \u001b[1;31m# pylint: disable=broad-except\u001b[0m\u001b[1;33m\u001b[0m\u001b[1;33m\u001b[0m\u001b[0m\n\u001b[0;32m     66\u001b[0m       \u001b[0mfiltered_tb\u001b[0m \u001b[1;33m=\u001b[0m \u001b[0m_process_traceback_frames\u001b[0m\u001b[1;33m(\u001b[0m\u001b[0me\u001b[0m\u001b[1;33m.\u001b[0m\u001b[0m__traceback__\u001b[0m\u001b[1;33m)\u001b[0m\u001b[1;33m\u001b[0m\u001b[1;33m\u001b[0m\u001b[0m\n\u001b[1;32m---> 67\u001b[1;33m       \u001b[1;32mraise\u001b[0m \u001b[0me\u001b[0m\u001b[1;33m.\u001b[0m\u001b[0mwith_traceback\u001b[0m\u001b[1;33m(\u001b[0m\u001b[0mfiltered_tb\u001b[0m\u001b[1;33m)\u001b[0m \u001b[1;32mfrom\u001b[0m \u001b[1;32mNone\u001b[0m\u001b[1;33m\u001b[0m\u001b[1;33m\u001b[0m\u001b[0m\n\u001b[0m\u001b[0;32m     68\u001b[0m     \u001b[1;32mfinally\u001b[0m\u001b[1;33m:\u001b[0m\u001b[1;33m\u001b[0m\u001b[1;33m\u001b[0m\u001b[0m\n\u001b[0;32m     69\u001b[0m       \u001b[1;32mdel\u001b[0m \u001b[0mfiltered_tb\u001b[0m\u001b[1;33m\u001b[0m\u001b[1;33m\u001b[0m\u001b[0m\n",
      "\u001b[1;32mC:\\Program Files\\ArcGIS\\Pro\\bin\\Python\\envs\\arcgispro-py3\\lib\\site-packages\\tensorflow\\python\\framework\\constant_op.py\u001b[0m in \u001b[0;36mconvert_to_eager_tensor\u001b[1;34m(value, ctx, dtype)\u001b[0m\n\u001b[0;32m    104\u001b[0m       \u001b[0mdtype\u001b[0m \u001b[1;33m=\u001b[0m \u001b[0mdtypes\u001b[0m\u001b[1;33m.\u001b[0m\u001b[0mas_dtype\u001b[0m\u001b[1;33m(\u001b[0m\u001b[0mdtype\u001b[0m\u001b[1;33m)\u001b[0m\u001b[1;33m.\u001b[0m\u001b[0mas_datatype_enum\u001b[0m\u001b[1;33m\u001b[0m\u001b[1;33m\u001b[0m\u001b[0m\n\u001b[0;32m    105\u001b[0m   \u001b[0mctx\u001b[0m\u001b[1;33m.\u001b[0m\u001b[0mensure_initialized\u001b[0m\u001b[1;33m(\u001b[0m\u001b[1;33m)\u001b[0m\u001b[1;33m\u001b[0m\u001b[1;33m\u001b[0m\u001b[0m\n\u001b[1;32m--> 106\u001b[1;33m   \u001b[1;32mreturn\u001b[0m \u001b[0mops\u001b[0m\u001b[1;33m.\u001b[0m\u001b[0mEagerTensor\u001b[0m\u001b[1;33m(\u001b[0m\u001b[0mvalue\u001b[0m\u001b[1;33m,\u001b[0m \u001b[0mctx\u001b[0m\u001b[1;33m.\u001b[0m\u001b[0mdevice_name\u001b[0m\u001b[1;33m,\u001b[0m \u001b[0mdtype\u001b[0m\u001b[1;33m)\u001b[0m\u001b[1;33m\u001b[0m\u001b[1;33m\u001b[0m\u001b[0m\n\u001b[0m\u001b[0;32m    107\u001b[0m \u001b[1;33m\u001b[0m\u001b[0m\n\u001b[0;32m    108\u001b[0m \u001b[1;33m\u001b[0m\u001b[0m\n",
      "\u001b[1;31mInternalError\u001b[0m: Failed copying input tensor from /job:localhost/replica:0/task:0/device:CPU:0 to /job:localhost/replica:0/task:0/device:GPU:0 in order to run _EagerConst: Dst tensor is not initialized."
     ]
    }
   ],
   "source": [
    "es = EarlyStopping(monitor='val_loss', mode='min', verbose=1, patience=5)\n",
    "mc = ModelCheckpoint('best_model.h5', monitor='val_accuracy', mode='max', verbose=1, save_best_only=True)\n",
    "# Fitting the model with 30 epochs and validation_split as 10%\n",
    "history=model.fit(X_train, \n",
    "          y_train_e,  \n",
    "          epochs=20, \n",
    "          batch_size=1,validation_split=0.10,callbacks=[es, mc])  "
   ]
  },
  {
   "cell_type": "markdown",
   "metadata": {
    "id": "1z1o5bQgFcRK"
   },
   "source": [
    "**Plotting Accuracy vs Epoch Curve**"
   ]
  },
  {
   "cell_type": "code",
   "execution_count": 59,
   "metadata": {
    "colab": {
     "base_uri": "https://localhost:8080/",
     "height": 295
    },
    "id": "lgzrrlUOe3r1",
    "outputId": "a7ce5220-4911-45ef-ded1-883fdf93edbb"
   },
   "outputs": [
    {
     "data": {
      "image/png": "[encoded data removed]",
      "text/plain": [
       "<Figure size 640x480 with 1 Axes>"
      ]
     },
     "metadata": {},
     "output_type": "display_data"
    }
   ],
   "source": [
    "plt.plot(history.history['accuracy'])\n",
    "plt.plot(history.history['val_accuracy'])\n",
    "plt.title('model accuracy')\n",
    "plt.ylabel('accuracy')\n",
    "plt.xlabel('epoch')\n",
    "plt.legend(['train', 'test'], loc='upper left')\n",
    "plt.show()"
   ]
  },
  {
   "cell_type": "markdown",
   "metadata": {
    "id": "BRl6Vpwz_D6h"
   },
   "source": [
    "From the above plot, it seems that the model is overfitting, lets try to use Dropout in the next model."
   ]
  },
  {
   "cell_type": "code",
   "execution_count": 60,
   "metadata": {
    "colab": {
     "base_uri": "https://localhost:8080/"
    },
    "id": "OjDvDLbRb-e7",
    "outputId": "a9c39d87-c7cf-4a9b-c4f3-b02b979bc2d1"
   },
   "outputs": [
    {
     "ename": "InternalError",
     "evalue": "Failed copying input tensor from /job:localhost/replica:0/task:0/device:CPU:0 to /job:localhost/replica:0/task:0/device:GPU:0 in order to run _EagerConst: Dst tensor is not initialized.",
     "output_type": "error",
     "traceback": [
      "\u001b[1;31m---------------------------------------------------------------------------\u001b[0m",
      "\u001b[1;31mInternalError\u001b[0m                             Traceback (most recent call last)",
      "\u001b[1;32m~\\AppData\\Local\\Temp\\1\\ipykernel_19208\\3905363173.py\u001b[0m in \u001b[0;36m<cell line: 1>\u001b[1;34m()\u001b[0m\n\u001b[1;32m----> 1\u001b[1;33m \u001b[0mmodel\u001b[0m\u001b[1;33m.\u001b[0m\u001b[0mevaluate\u001b[0m\u001b[1;33m(\u001b[0m\u001b[0mX_test\u001b[0m\u001b[1;33m,\u001b[0m\u001b[1;33m(\u001b[0m\u001b[0my_test_e\u001b[0m\u001b[1;33m)\u001b[0m\u001b[1;33m)\u001b[0m\u001b[1;33m\u001b[0m\u001b[1;33m\u001b[0m\u001b[0m\n\u001b[0m",
      "\u001b[1;32mC:\\Program Files\\ArcGIS\\Pro\\bin\\Python\\envs\\arcgispro-py3\\lib\\site-packages\\keras\\utils\\traceback_utils.py\u001b[0m in \u001b[0;36merror_handler\u001b[1;34m(*args, **kwargs)\u001b[0m\n\u001b[0;32m     65\u001b[0m     \u001b[1;32mexcept\u001b[0m \u001b[0mException\u001b[0m \u001b[1;32mas\u001b[0m \u001b[0me\u001b[0m\u001b[1;33m:\u001b[0m  \u001b[1;31m# pylint: disable=broad-except\u001b[0m\u001b[1;33m\u001b[0m\u001b[1;33m\u001b[0m\u001b[0m\n\u001b[0;32m     66\u001b[0m       \u001b[0mfiltered_tb\u001b[0m \u001b[1;33m=\u001b[0m \u001b[0m_process_traceback_frames\u001b[0m\u001b[1;33m(\u001b[0m\u001b[0me\u001b[0m\u001b[1;33m.\u001b[0m\u001b[0m__traceback__\u001b[0m\u001b[1;33m)\u001b[0m\u001b[1;33m\u001b[0m\u001b[1;33m\u001b[0m\u001b[0m\n\u001b[1;32m---> 67\u001b[1;33m       \u001b[1;32mraise\u001b[0m \u001b[0me\u001b[0m\u001b[1;33m.\u001b[0m\u001b[0mwith_traceback\u001b[0m\u001b[1;33m(\u001b[0m\u001b[0mfiltered_tb\u001b[0m\u001b[1;33m)\u001b[0m \u001b[1;32mfrom\u001b[0m \u001b[1;32mNone\u001b[0m\u001b[1;33m\u001b[0m\u001b[1;33m\u001b[0m\u001b[0m\n\u001b[0m\u001b[0;32m     68\u001b[0m     \u001b[1;32mfinally\u001b[0m\u001b[1;33m:\u001b[0m\u001b[1;33m\u001b[0m\u001b[1;33m\u001b[0m\u001b[0m\n\u001b[0;32m     69\u001b[0m       \u001b[1;32mdel\u001b[0m \u001b[0mfiltered_tb\u001b[0m\u001b[1;33m\u001b[0m\u001b[1;33m\u001b[0m\u001b[0m\n",
      "\u001b[1;32mC:\\Program Files\\ArcGIS\\Pro\\bin\\Python\\envs\\arcgispro-py3\\lib\\site-packages\\tensorflow\\python\\framework\\constant_op.py\u001b[0m in \u001b[0;36mconvert_to_eager_tensor\u001b[1;34m(value, ctx, dtype)\u001b[0m\n\u001b[0;32m    104\u001b[0m       \u001b[0mdtype\u001b[0m \u001b[1;33m=\u001b[0m \u001b[0mdtypes\u001b[0m\u001b[1;33m.\u001b[0m\u001b[0mas_dtype\u001b[0m\u001b[1;33m(\u001b[0m\u001b[0mdtype\u001b[0m\u001b[1;33m)\u001b[0m\u001b[1;33m.\u001b[0m\u001b[0mas_datatype_enum\u001b[0m\u001b[1;33m\u001b[0m\u001b[1;33m\u001b[0m\u001b[0m\n\u001b[0;32m    105\u001b[0m   \u001b[0mctx\u001b[0m\u001b[1;33m.\u001b[0m\u001b[0mensure_initialized\u001b[0m\u001b[1;33m(\u001b[0m\u001b[1;33m)\u001b[0m\u001b[1;33m\u001b[0m\u001b[1;33m\u001b[0m\u001b[0m\n\u001b[1;32m--> 106\u001b[1;33m   \u001b[1;32mreturn\u001b[0m \u001b[0mops\u001b[0m\u001b[1;33m.\u001b[0m\u001b[0mEagerTensor\u001b[0m\u001b[1;33m(\u001b[0m\u001b[0mvalue\u001b[0m\u001b[1;33m,\u001b[0m \u001b[0mctx\u001b[0m\u001b[1;33m.\u001b[0m\u001b[0mdevice_name\u001b[0m\u001b[1;33m,\u001b[0m \u001b[0mdtype\u001b[0m\u001b[1;33m)\u001b[0m\u001b[1;33m\u001b[0m\u001b[1;33m\u001b[0m\u001b[0m\n\u001b[0m\u001b[0;32m    107\u001b[0m \u001b[1;33m\u001b[0m\u001b[0m\n\u001b[0;32m    108\u001b[0m \u001b[1;33m\u001b[0m\u001b[0m\n",
      "\u001b[1;31mInternalError\u001b[0m: Failed copying input tensor from /job:localhost/replica:0/task:0/device:CPU:0 to /job:localhost/replica:0/task:0/device:GPU:0 in order to run _EagerConst: Dst tensor is not initialized."
     ]
    }
   ],
   "source": [
    "model.evaluate(X_test,(y_test_e))"
   ]
  },
  {
   "cell_type": "code",
   "execution_count": null,
   "metadata": {
    "id": "uAa1bsr_L-Db"
   },
   "outputs": [],
   "source": [
    "# Test Prediction \n",
    "y_test_pred_ln = model.predict(X_test)\n",
    "y_test_pred_classes_ln = np.argmax(y_test_pred_ln, axis=1)\n",
    "normal_y_test = np.argmax(y_test_e, axis=1)"
   ]
  },
  {
   "cell_type": "markdown",
   "metadata": {
    "id": "uhcKuGLWDGpZ"
   },
   "source": [
    "Since we have converted the target variable into a NumPy array using labelbinarizer, now we are converting the target variable into its original form by using the numpy. argmax() function which returns indices of the max element of the array in a particular axis and this original form of target will be used in calculating the accuracy, and plotting the confusion matrix."
   ]
  },
  {
   "cell_type": "code",
   "execution_count": null,
   "metadata": {
    "colab": {
     "base_uri": "https://localhost:8080/"
    },
    "id": "0Ww5nNYjMPDV",
    "outputId": "b24eb841-b504-475a-e8d6-54a773604bd4"
   },
   "outputs": [
    {
     "data": {
      "text/plain": [
       "0.7385740402193784"
      ]
     },
     "execution_count": 40,
     "metadata": {},
     "output_type": "execute_result"
    }
   ],
   "source": [
    "# Test Accuracy \n",
    "import seaborn as sns\n",
    "from sklearn.metrics import accuracy_score, confusion_matrix\n",
    "accuracy_score((normal_y_test), y_test_pred_classes_ln)"
   ]
  },
  {
   "cell_type": "code",
   "execution_count": null,
   "metadata": {
    "colab": {
     "base_uri": "https://localhost:8080/",
     "height": 391
    },
    "id": "DxqeB6VwMWBB",
    "outputId": "014fad51-3012-4ba2-bd9c-ca920f2b3ba1"
   },
   "outputs": [
    {
     "data": {
      "text/plain": [
       "<matplotlib.axes._subplots.AxesSubplot at 0x7f1cd8d7bbd0>"
      ]
     },
     "execution_count": 41,
     "metadata": {},
     "output_type": "execute_result"
    },
    {
     "data": {
      "image/png": "[encoded data removed]",
      "text/plain": [
       "<Figure size 576x432 with 2 Axes>"
      ]
     },
     "metadata": {
      "needs_background": "light"
     },
     "output_type": "display_data"
    }
   ],
   "source": [
    "cf_matrix = confusion_matrix(normal_y_test, y_test_pred_classes_ln)\n",
    "\n",
    "# Confusion matrix normalized per category true value\n",
    "cf_matrix_n1 = cf_matrix/np.sum(cf_matrix, axis=1)\n",
    "plt.figure(figsize=(8,6))\n",
    "sns.heatmap(cf_matrix_n1, xticklabels=CATEGORIES, yticklabels=CATEGORIES, annot=True)"
   ]
  },
  {
   "cell_type": "markdown",
   "metadata": {
    "id": "8ok0qioj3vqw"
   },
   "source": [
    "* The model is giving about 73% accuracy on the test data"
   ]
  },
  {
   "cell_type": "markdown",
   "metadata": {
    "id": "flyoIJPGnOOf"
   },
   "source": [
    "### Model 2:\n",
    "\n",
    "Lets try to build another CNN model with more layers added to the model."
   ]
  },
  {
   "cell_type": "code",
   "execution_count": null,
   "metadata": {
    "id": "NeQXpcJ4GyhX"
   },
   "outputs": [],
   "source": [
    "from tensorflow.keras import backend\n",
    "backend.clear_session()\n",
    "#Fixing the seed for random number generators so that we can ensure we receive the same output everytime\n",
    "np.random.seed(42)\n",
    "import random\n",
    "random.seed(42)\n",
    "tf.random.set_seed(42)"
   ]
  },
  {
   "cell_type": "code",
   "execution_count": null,
   "metadata": {
    "id": "kic9DE9xkiU5"
   },
   "outputs": [],
   "source": [
    "# initialized a sequential model\n",
    "model_3 = Sequential()\n",
    "# adding first conv layer with 256 filters and kernel size 5x5 , with ReLU activation and padding 'same' provides the output size same as the input size\n",
    "#input_shape denotes input image dimension of images\n",
    "model_3.add(Conv2D(filters = 256, kernel_size = (5,5),padding = 'Same', \n",
    "                 activation ='relu', input_shape = (150,150,3)))\n",
    "# adding max pooling to reduce the size of output of first conv layer\n",
    "model_3.add(MaxPool2D(pool_size=(2,2)))\n",
    "#  adding dropout to randomly switch off 25% neurons to reduce overfitting\n",
    "\n",
    "# adding second conv layer with 256 filters and with kernel size 3x3 and ReLu activation function\n",
    "model_3.add(Conv2D(filters = 128, kernel_size = (5,5),padding = 'Same', \n",
    "                 activation ='relu'))\n",
    "# adding max pooling to reduce the size of output of first conv layer\n",
    "model_3.add(MaxPool2D(pool_size=(2,2), strides=(2,2)))\n",
    "#  adding dropout to randomly switch off 25% neurons to reduce overfitting\n",
    "\n",
    "# adding third conv layer with 256 filters and with kernel size 3x3 and ReLu activation function\n",
    "model_3.add(Conv2D(filters = 64, kernel_size = (3,3),padding = 'Same', \n",
    "                 activation ='relu'))\n",
    "# adding max pooling to reduce the size of output of first conv layer\n",
    "model_3.add(MaxPool2D(pool_size=(2,2), strides=(2,2)))\n",
    "#  adding dropout to randomly switch off 30% neurons to reduce overfitting\n",
    "model_3.add(Dropout(0.3))\n",
    "\n",
    "# adding forth conv layer with 256 filters and with kernel size 3x3 and ReLu activation function\n",
    "model_3.add(Conv2D(filters = 32, kernel_size = (3,3),padding = 'Same', \n",
    "                 activation ='relu'))\n",
    "# adding max pooling to reduce the size of output of first conv layer\n",
    "model_3.add(MaxPool2D(pool_size=(2,2), strides=(2,2)))\n",
    "#  adding dropout to randomly switch off 30% neurons to reduce overfitting\n",
    "model_3.add(Dropout(0.3))\n",
    "\n",
    "\n",
    "# flattening the 3-d output of the conv layer after max pooling to make it ready for creating dense connections\n",
    "model_3.add(Flatten())\n",
    "# adding first fully connected dense layer with 1024 neurons \n",
    "model_3.add(Dense(64, activation = \"relu\"))\n",
    "#  adding dropout to randomly switch off 50% neurons to reduce overfitting\n",
    "model_3.add(Dropout(0.5))\n",
    "# adding second fully connected dense layer with 512 neurons \n",
    "model_3.add(Dense(32, activation = \"relu\"))\n",
    "#  adding dropout to randomly switch off 50% neurons to reduce overfitting\n",
    "model_3.add(Dropout(0.5))\n",
    "\n",
    "# adding the output layer with 4 neurons and activation functions as softmax since this is a multi-class classification problem with 4 classes.\n",
    "model_3.add(Dense(3, activation = \"softmax\"))"
   ]
  },
  {
   "cell_type": "code",
   "execution_count": null,
   "metadata": {
    "colab": {
     "base_uri": "https://localhost:8080/"
    },
    "id": "6iuPuIcskjlB",
    "outputId": "f6d9e842-c3bd-4da4-a33a-6eee93900ad1"
   },
   "outputs": [
    {
     "name": "stdout",
     "output_type": "stream",
     "text": [
      "Model: \"sequential\"\n",
      "_________________________________________________________________\n",
      " Layer (type)                Output Shape              Param #   \n",
      "=================================================================\n",
      " conv2d (Conv2D)             (None, 150, 150, 256)     19456     \n",
      "                                                                 \n",
      " max_pooling2d (MaxPooling2D  (None, 75, 75, 256)      0         \n",
      " )                                                               \n",
      "                                                                 \n",
      " conv2d_1 (Conv2D)           (None, 75, 75, 128)       819328    \n",
      "                                                                 \n",
      " max_pooling2d_1 (MaxPooling  (None, 37, 37, 128)      0         \n",
      " 2D)                                                             \n",
      "                                                                 \n",
      " conv2d_2 (Conv2D)           (None, 37, 37, 64)        73792     \n",
      "                                                                 \n",
      " max_pooling2d_2 (MaxPooling  (None, 18, 18, 64)       0         \n",
      " 2D)                                                             \n",
      "                                                                 \n",
      " dropout (Dropout)           (None, 18, 18, 64)        0         \n",
      "                                                                 \n",
      " conv2d_3 (Conv2D)           (None, 18, 18, 32)        18464     \n",
      "                                                                 \n",
      " max_pooling2d_3 (MaxPooling  (None, 9, 9, 32)         0         \n",
      " 2D)                                                             \n",
      "                                                                 \n",
      " dropout_1 (Dropout)         (None, 9, 9, 32)          0         \n",
      "                                                                 \n",
      " flatten (Flatten)           (None, 2592)              0         \n",
      "                                                                 \n",
      " dense (Dense)               (None, 64)                165952    \n",
      "                                                                 \n",
      " dropout_2 (Dropout)         (None, 64)                0         \n",
      "                                                                 \n",
      " dense_1 (Dense)             (None, 32)                2080      \n",
      "                                                                 \n",
      " dropout_3 (Dropout)         (None, 32)                0         \n",
      "                                                                 \n",
      " dense_2 (Dense)             (None, 3)                 99        \n",
      "                                                                 \n",
      "=================================================================\n",
      "Total params: 1,099,171\n",
      "Trainable params: 1,099,171\n",
      "Non-trainable params: 0\n",
      "_________________________________________________________________\n"
     ]
    }
   ],
   "source": [
    "model_3.summary()"
   ]
  },
  {
   "cell_type": "markdown",
   "metadata": {
    "id": "a53uF6JG6eJF"
   },
   "source": [
    "As we can see from the above summary, this CNN model will train and learn **1,099,171 parameters (weights and biases).**"
   ]
  },
  {
   "cell_type": "markdown",
   "metadata": {
    "id": "HK4aFULo6eJF"
   },
   "source": [
    "Let's now compile and train the model using the train data. Here, we are using the loss function - categorical_crossentropy as this is a multi-class classification problem. We will try to minimize this loss at every iteration using the optimizer of our choice. Also, we are choosing accuracy as the metric to measure the performance of the model."
   ]
  },
  {
   "cell_type": "code",
   "execution_count": null,
   "metadata": {
    "colab": {
     "base_uri": "https://localhost:8080/"
    },
    "id": "e-fZ8fq0MiaL",
    "outputId": "4ea2adc3-a4e3-4405-aa77-942ff195dd94"
   },
   "outputs": [
    {
     "name": "stderr",
     "output_type": "stream",
     "text": [
      "/usr/local/lib/python3.7/dist-packages/keras/optimizer_v2/adam.py:105: UserWarning: The `lr` argument is deprecated, use `learning_rate` instead.\n",
      "  super(Adam, self).__init__(name, **kwargs)\n"
     ]
    },
    {
     "name": "stdout",
     "output_type": "stream",
     "text": [
      "Epoch 1/30\n",
      "91/91 [==============================] - ETA: 0s - loss: 1.0909 - accuracy: 0.4500\n",
      "Epoch 1: val_accuracy improved from -inf to 0.47040, saving model to best_model.h5\n",
      "91/91 [==============================] - 76s 800ms/step - loss: 1.0909 - accuracy: 0.4500 - val_loss: 1.0578 - val_accuracy: 0.4704\n",
      "Epoch 2/30\n",
      "91/91 [==============================] - ETA: 0s - loss: 1.0624 - accuracy: 0.4688\n",
      "Epoch 2: val_accuracy did not improve from 0.47040\n",
      "91/91 [==============================] - 27s 292ms/step - loss: 1.0624 - accuracy: 0.4688 - val_loss: 1.0489 - val_accuracy: 0.4704\n",
      "Epoch 3/30\n",
      "91/91 [==============================] - ETA: 0s - loss: 1.0605 - accuracy: 0.4684\n",
      "Epoch 3: val_accuracy did not improve from 0.47040\n",
      "91/91 [==============================] - 27s 292ms/step - loss: 1.0605 - accuracy: 0.4684 - val_loss: 1.0474 - val_accuracy: 0.4704\n",
      "Epoch 4/30\n",
      "91/91 [==============================] - ETA: 0s - loss: 1.0567 - accuracy: 0.4667\n",
      "Epoch 4: val_accuracy did not improve from 0.47040\n",
      "91/91 [==============================] - 28s 305ms/step - loss: 1.0567 - accuracy: 0.4667 - val_loss: 1.0451 - val_accuracy: 0.4704\n",
      "Epoch 5/30\n",
      "91/91 [==============================] - ETA: 0s - loss: 1.0555 - accuracy: 0.4674\n",
      "Epoch 5: val_accuracy did not improve from 0.47040\n",
      "91/91 [==============================] - 26s 291ms/step - loss: 1.0555 - accuracy: 0.4674 - val_loss: 1.0289 - val_accuracy: 0.4704\n",
      "Epoch 6/30\n",
      "91/91 [==============================] - ETA: 0s - loss: 1.0475 - accuracy: 0.4643\n",
      "Epoch 6: val_accuracy did not improve from 0.47040\n",
      "91/91 [==============================] - 26s 291ms/step - loss: 1.0475 - accuracy: 0.4643 - val_loss: 1.0382 - val_accuracy: 0.4704\n",
      "Epoch 7/30\n",
      "91/91 [==============================] - ETA: 0s - loss: 0.9790 - accuracy: 0.4910\n",
      "Epoch 7: val_accuracy improved from 0.47040 to 0.58879, saving model to best_model.h5\n",
      "91/91 [==============================] - 28s 306ms/step - loss: 0.9790 - accuracy: 0.4910 - val_loss: 0.8488 - val_accuracy: 0.5888\n",
      "Epoch 8/30\n",
      "91/91 [==============================] - ETA: 0s - loss: 0.8580 - accuracy: 0.5573\n",
      "Epoch 8: val_accuracy improved from 0.58879 to 0.59813, saving model to best_model.h5\n",
      "91/91 [==============================] - 27s 292ms/step - loss: 0.8580 - accuracy: 0.5573 - val_loss: 0.7908 - val_accuracy: 0.5981\n",
      "Epoch 9/30\n",
      "91/91 [==============================] - ETA: 0s - loss: 0.8336 - accuracy: 0.5864\n",
      "Epoch 9: val_accuracy improved from 0.59813 to 0.61371, saving model to best_model.h5\n",
      "91/91 [==============================] - 27s 292ms/step - loss: 0.8336 - accuracy: 0.5864 - val_loss: 0.7926 - val_accuracy: 0.6137\n",
      "Epoch 10/30\n",
      "91/91 [==============================] - ETA: 0s - loss: 0.7695 - accuracy: 0.6207\n",
      "Epoch 10: val_accuracy improved from 0.61371 to 0.62617, saving model to best_model.h5\n",
      "91/91 [==============================] - 27s 292ms/step - loss: 0.7695 - accuracy: 0.6207 - val_loss: 0.7439 - val_accuracy: 0.6262\n",
      "Epoch 11/30\n",
      "91/91 [==============================] - ETA: 0s - loss: 0.7508 - accuracy: 0.6350\n",
      "Epoch 11: val_accuracy did not improve from 0.62617\n",
      "91/91 [==============================] - 26s 291ms/step - loss: 0.7508 - accuracy: 0.6350 - val_loss: 0.7496 - val_accuracy: 0.6044\n",
      "Epoch 12/30\n",
      "91/91 [==============================] - ETA: 0s - loss: 0.7411 - accuracy: 0.6256\n",
      "Epoch 12: val_accuracy did not improve from 0.62617\n",
      "91/91 [==============================] - 26s 291ms/step - loss: 0.7411 - accuracy: 0.6256 - val_loss: 0.7211 - val_accuracy: 0.6231\n",
      "Epoch 13/30\n",
      "91/91 [==============================] - ETA: 0s - loss: 0.7138 - accuracy: 0.6489\n",
      "Epoch 13: val_accuracy did not improve from 0.62617\n",
      "91/91 [==============================] - 27s 292ms/step - loss: 0.7138 - accuracy: 0.6489 - val_loss: 0.7421 - val_accuracy: 0.6106\n",
      "Epoch 14/30\n",
      "91/91 [==============================] - ETA: 0s - loss: 0.7071 - accuracy: 0.6450\n",
      "Epoch 14: val_accuracy did not improve from 0.62617\n",
      "91/91 [==============================] - 26s 291ms/step - loss: 0.7071 - accuracy: 0.6450 - val_loss: 0.7579 - val_accuracy: 0.5981\n",
      "Epoch 15/30\n",
      "91/91 [==============================] - ETA: 0s - loss: 0.6871 - accuracy: 0.6572\n",
      "Epoch 15: val_accuracy did not improve from 0.62617\n",
      "91/91 [==============================] - 28s 305ms/step - loss: 0.6871 - accuracy: 0.6572 - val_loss: 0.7009 - val_accuracy: 0.6231\n",
      "Epoch 16/30\n",
      "91/91 [==============================] - ETA: 0s - loss: 0.6922 - accuracy: 0.6579\n",
      "Epoch 16: val_accuracy improved from 0.62617 to 0.65732, saving model to best_model.h5\n",
      "91/91 [==============================] - 27s 292ms/step - loss: 0.6922 - accuracy: 0.6579 - val_loss: 0.7092 - val_accuracy: 0.6573\n",
      "Epoch 17/30\n",
      "91/91 [==============================] - ETA: 0s - loss: 0.6473 - accuracy: 0.6770\n",
      "Epoch 17: val_accuracy did not improve from 0.65732\n",
      "91/91 [==============================] - 26s 291ms/step - loss: 0.6473 - accuracy: 0.6770 - val_loss: 0.7460 - val_accuracy: 0.6293\n",
      "Epoch 18/30\n",
      "91/91 [==============================] - ETA: 0s - loss: 0.6686 - accuracy: 0.6683\n",
      "Epoch 18: val_accuracy improved from 0.65732 to 0.68847, saving model to best_model.h5\n",
      "91/91 [==============================] - 27s 293ms/step - loss: 0.6686 - accuracy: 0.6683 - val_loss: 0.6865 - val_accuracy: 0.6885\n",
      "Epoch 19/30\n",
      "91/91 [==============================] - ETA: 0s - loss: 0.6137 - accuracy: 0.7155\n",
      "Epoch 19: val_accuracy did not improve from 0.68847\n",
      "91/91 [==============================] - 27s 292ms/step - loss: 0.6137 - accuracy: 0.7155 - val_loss: 0.6658 - val_accuracy: 0.6822\n",
      "Epoch 20/30\n",
      "91/91 [==============================] - ETA: 0s - loss: 0.6141 - accuracy: 0.7103\n",
      "Epoch 20: val_accuracy did not improve from 0.68847\n",
      "91/91 [==============================] - 27s 293ms/step - loss: 0.6141 - accuracy: 0.7103 - val_loss: 0.6874 - val_accuracy: 0.6854\n",
      "Epoch 21/30\n",
      "91/91 [==============================] - ETA: 0s - loss: 0.6026 - accuracy: 0.7384\n",
      "Epoch 21: val_accuracy improved from 0.68847 to 0.72897, saving model to best_model.h5\n",
      "91/91 [==============================] - 27s 294ms/step - loss: 0.6026 - accuracy: 0.7384 - val_loss: 0.6194 - val_accuracy: 0.7290\n",
      "Epoch 22/30\n",
      "91/91 [==============================] - ETA: 0s - loss: 0.5439 - accuracy: 0.7599\n",
      "Epoch 22: val_accuracy improved from 0.72897 to 0.75078, saving model to best_model.h5\n",
      "91/91 [==============================] - 27s 293ms/step - loss: 0.5439 - accuracy: 0.7599 - val_loss: 0.6194 - val_accuracy: 0.7508\n",
      "Epoch 23/30\n",
      "91/91 [==============================] - ETA: 0s - loss: 0.5562 - accuracy: 0.7672\n",
      "Epoch 23: val_accuracy improved from 0.75078 to 0.76012, saving model to best_model.h5\n",
      "91/91 [==============================] - 27s 293ms/step - loss: 0.5562 - accuracy: 0.7672 - val_loss: 0.5689 - val_accuracy: 0.7601\n",
      "Epoch 24/30\n",
      "91/91 [==============================] - ETA: 0s - loss: 0.5167 - accuracy: 0.7817\n",
      "Epoch 24: val_accuracy improved from 0.76012 to 0.76324, saving model to best_model.h5\n",
      "91/91 [==============================] - 27s 293ms/step - loss: 0.5167 - accuracy: 0.7817 - val_loss: 0.5301 - val_accuracy: 0.7632\n",
      "Epoch 25/30\n",
      "91/91 [==============================] - ETA: 0s - loss: 0.4976 - accuracy: 0.7984\n",
      "Epoch 25: val_accuracy improved from 0.76324 to 0.79128, saving model to best_model.h5\n",
      "91/91 [==============================] - 27s 293ms/step - loss: 0.4976 - accuracy: 0.7984 - val_loss: 0.5216 - val_accuracy: 0.7913\n",
      "Epoch 26/30\n",
      "91/91 [==============================] - ETA: 0s - loss: 0.4937 - accuracy: 0.8067\n",
      "Epoch 26: val_accuracy did not improve from 0.79128\n",
      "91/91 [==============================] - 27s 292ms/step - loss: 0.4937 - accuracy: 0.8067 - val_loss: 0.6325 - val_accuracy: 0.7165\n",
      "Epoch 27/30\n",
      "91/91 [==============================] - ETA: 0s - loss: 0.4789 - accuracy: 0.8085\n",
      "Epoch 27: val_accuracy did not improve from 0.79128\n",
      "91/91 [==============================] - 27s 292ms/step - loss: 0.4789 - accuracy: 0.8085 - val_loss: 0.5082 - val_accuracy: 0.7913\n",
      "Epoch 28/30\n",
      "91/91 [==============================] - ETA: 0s - loss: 0.4819 - accuracy: 0.8092\n",
      "Epoch 28: val_accuracy did not improve from 0.79128\n",
      "91/91 [==============================] - 27s 292ms/step - loss: 0.4819 - accuracy: 0.8092 - val_loss: 0.5282 - val_accuracy: 0.7601\n",
      "Epoch 29/30\n",
      "91/91 [==============================] - ETA: 0s - loss: 0.4298 - accuracy: 0.8272\n",
      "Epoch 29: val_accuracy did not improve from 0.79128\n",
      "91/91 [==============================] - 27s 292ms/step - loss: 0.4298 - accuracy: 0.8272 - val_loss: 0.5169 - val_accuracy: 0.7882\n",
      "Epoch 30/30\n",
      "91/91 [==============================] - ETA: 0s - loss: 0.4054 - accuracy: 0.8393\n",
      "Epoch 30: val_accuracy improved from 0.79128 to 0.80685, saving model to best_model.h5\n",
      "91/91 [==============================] - 28s 307ms/step - loss: 0.4054 - accuracy: 0.8393 - val_loss: 0.4912 - val_accuracy: 0.8069\n"
     ]
    }
   ],
   "source": [
    "optimizer = Adam(lr=0.001)\n",
    "model_3.compile(optimizer = optimizer , loss = \"categorical_crossentropy\", metrics=[\"accuracy\"])\n",
    "es = EarlyStopping(monitor='val_loss', mode='min', verbose=1, patience=5)\n",
    "mc = ModelCheckpoint('best_model.h5', monitor='val_accuracy', mode='max', verbose=1, save_best_only=True)\n",
    "\n",
    "history=model_3.fit(X_train, \n",
    "          y_train_e,  \n",
    "          epochs=30, \n",
    "          batch_size=32,validation_split=0.10,callbacks=[es, mc],use_multiprocessing=True)"
   ]
  },
  {
   "cell_type": "markdown",
   "metadata": {
    "id": "T7CZHDrIGCbB"
   },
   "source": [
    "**Plotting Accuracy vs Epoch Curve**"
   ]
  },
  {
   "cell_type": "code",
   "execution_count": null,
   "metadata": {
    "colab": {
     "base_uri": "https://localhost:8080/",
     "height": 295
    },
    "id": "Fndtn0d8MiW8",
    "outputId": "b6a2180f-ea36-4590-f4d2-843266cd7337"
   },
   "outputs": [
    {
     "data": {
      "image/png": "[encoded data removed]",
      "text/plain": [
       "<Figure size 432x288 with 1 Axes>"
      ]
     },
     "metadata": {
      "needs_background": "light"
     },
     "output_type": "display_data"
    }
   ],
   "source": [
    "plt.plot(history.history['accuracy'])\n",
    "plt.plot(history.history['val_accuracy'])\n",
    "plt.title('model accuracy')\n",
    "plt.ylabel('accuracy')\n",
    "plt.xlabel('epoch')\n",
    "plt.legend(['train', 'Val'], loc='upper left')\n",
    "plt.show()"
   ]
  },
  {
   "cell_type": "markdown",
   "metadata": {
    "id": "bZwKlon4t-Oo"
   },
   "source": [
    "Train and Validation accuracy seems fine and let's calculate the accuracy on the test data"
   ]
  },
  {
   "cell_type": "code",
   "execution_count": null,
   "metadata": {
    "colab": {
     "base_uri": "https://localhost:8080/"
    },
    "id": "4BGu1tz5Ez4-",
    "outputId": "b9349569-5ca2-4d9c-a8b9-75a64e3fada8"
   },
   "outputs": [
    {
     "name": "stdout",
     "output_type": "stream",
     "text": [
      "35/35 [==============================] - 5s 136ms/step - loss: 0.5958 - accuracy: 0.7852\n"
     ]
    },
    {
     "data": {
      "text/plain": [
       "[0.5957765579223633, 0.7851919531822205]"
      ]
     },
     "execution_count": 64,
     "metadata": {},
     "output_type": "execute_result"
    }
   ],
   "source": [
    "model_3.evaluate(X_test,y_test_e)"
   ]
  },
  {
   "cell_type": "markdown",
   "metadata": {
    "id": "d1qO-cCbuM2v"
   },
   "source": [
    "By comparing the train and test accuracy, it seems the model is not overfitting, so adding more layers to the model worked, and we can say that this CNN model is good. We can also try building different models by increasing the hidden layers and see if we get good accuracy."
   ]
  },
  {
   "cell_type": "code",
   "execution_count": null,
   "metadata": {
    "id": "uqpB8JlzMiTw"
   },
   "outputs": [],
   "source": [
    "y_test_pred_ln3 = model_3.predict(X_test)\n",
    "y_test_pred_classes_ln3 = np.argmax(y_test_pred_ln3, axis=1)"
   ]
  },
  {
   "cell_type": "code",
   "execution_count": null,
   "metadata": {
    "colab": {
     "base_uri": "https://localhost:8080/"
    },
    "id": "l14AghVPMiQc",
    "outputId": "cad70240-0e84-49a6-bfa3-4d4638aae72b"
   },
   "outputs": [
    {
     "data": {
      "text/plain": [
       "0.7851919561243145"
      ]
     },
     "execution_count": 66,
     "metadata": {},
     "output_type": "execute_result"
    }
   ],
   "source": [
    "import seaborn as sns\n",
    "from sklearn.metrics import accuracy_score, confusion_matrix\n",
    "accuracy_score(normal_y_test, y_test_pred_classes_ln3)"
   ]
  },
  {
   "cell_type": "code",
   "execution_count": null,
   "metadata": {
    "colab": {
     "base_uri": "https://localhost:8080/",
     "height": 391
    },
    "id": "1Q357rwVMiMs",
    "outputId": "66dc2ebc-b192-4884-fa68-3ba8e5a80caf"
   },
   "outputs": [
    {
     "data": {
      "text/plain": [
       "<matplotlib.axes._subplots.AxesSubplot at 0x7f1cd8b8a750>"
      ]
     },
     "execution_count": 68,
     "metadata": {},
     "output_type": "execute_result"
    },
    {
     "data": {
      "image/png": "[encoded data removed]",
      "text/plain": [
       "<Figure size 576x432 with 2 Axes>"
      ]
     },
     "metadata": {
      "needs_background": "light"
     },
     "output_type": "display_data"
    }
   ],
   "source": [
    "cf_matrix = confusion_matrix(normal_y_test, y_test_pred_classes_ln3)\n",
    "\n",
    "# Confusion matrix normalized per category true value\n",
    "cf_matrix_n1 = cf_matrix/np.sum(cf_matrix, axis=1)\n",
    "plt.figure(figsize=(8,6))\n",
    "sns.heatmap(cf_matrix_n1, xticklabels=CATEGORIES, yticklabels=CATEGORIES, annot=True)"
   ]
  },
  {
   "cell_type": "markdown",
   "metadata": {
    "id": "pnH9UOXutIwF"
   },
   "source": [
    "**Classification Report for each class** \n",
    "\n",
    "- **Precision:** precision is the fraction of relevant instances among the retrieved instances.\n",
    "\n",
    "- **Recall:** recall is the fraction of relevant instances that were retrieved.\n",
    "\n",
    "- **F-beta score:** The F-beta score is the weighted harmonic mean of precision and recall, reaching its optimal value at 1 and its worst value at 0. The beta parameter determines the weight of recall in the combined score."
   ]
  },
  {
   "cell_type": "markdown",
   "metadata": {
    "id": "Hu5v5JGI1YPG"
   },
   "source": [
    "**CNN Model 1**"
   ]
  },
  {
   "cell_type": "code",
   "execution_count": null,
   "metadata": {
    "colab": {
     "base_uri": "https://localhost:8080/"
    },
    "id": "oYIngH6ouzyx",
    "outputId": "4ed9fe94-f9e4-4e81-9989-9cc3d7cd08a2"
   },
   "outputs": [
    {
     "name": "stdout",
     "output_type": "stream",
     "text": [
      "              precision    recall  f1-score   support\n",
      "\n",
      "           0       0.74      0.52      0.61       362\n",
      "           1       0.76      0.85      0.80       500\n",
      "           2       0.69      0.84      0.76       232\n",
      "\n",
      "    accuracy                           0.74      1094\n",
      "   macro avg       0.73      0.74      0.72      1094\n",
      "weighted avg       0.74      0.74      0.73      1094\n",
      "\n"
     ]
    }
   ],
   "source": [
    "from sklearn.metrics import classification_report\n",
    "print(classification_report((normal_y_test), y_test_pred_classes_ln))"
   ]
  },
  {
   "cell_type": "markdown",
   "metadata": {
    "id": "4HwtPdOr1eR_"
   },
   "source": [
    "**CNN Model 2**"
   ]
  },
  {
   "cell_type": "code",
   "execution_count": null,
   "metadata": {
    "colab": {
     "base_uri": "https://localhost:8080/"
    },
    "id": "sNiVb7oVbswV",
    "outputId": "d6e1bd3c-b0a5-4f66-e8a5-b6cccd2e4c1e"
   },
   "outputs": [
    {
     "name": "stdout",
     "output_type": "stream",
     "text": [
      "              precision    recall  f1-score   support\n",
      "\n",
      "           0       0.66      0.81      0.73       362\n",
      "           1       0.85      0.80      0.82       500\n",
      "           2       0.92      0.72      0.81       232\n",
      "\n",
      "    accuracy                           0.79      1094\n",
      "   macro avg       0.81      0.78      0.79      1094\n",
      "weighted avg       0.80      0.79      0.79      1094\n",
      "\n"
     ]
    }
   ],
   "source": [
    "from sklearn.metrics import classification_report\n",
    "print(classification_report(normal_y_test, y_test_pred_classes_ln3))"
   ]
  },
  {
   "cell_type": "markdown",
   "metadata": {
    "id": "o62dBCDsNlwM"
   },
   "source": [
    "### **Prediction**\n",
    "\n",
    "Let us predict using the best model which is model_3 by plotting one random image from X_test data with variable and see if our best model is predicting the image correctly or not."
   ]
  },
  {
   "cell_type": "code",
   "execution_count": null,
   "metadata": {
    "colab": {
     "base_uri": "https://localhost:8080/",
     "height": 414
    },
    "id": "RpNCCsucN8iE",
    "outputId": "578217f5-eaca-4faa-e7e0-015a9a911401"
   },
   "outputs": [
    {
     "data": {
      "image/png": "[encoded data removed]",
      "text/plain": [
       "<PIL.Image.Image image mode=RGB size=150x150 at 0x7F1D5046D690>"
      ]
     },
     "metadata": {},
     "output_type": "display_data"
    },
    {
     "data": {
      "image/png": "[encoded data removed]",
      "text/plain": [
       "<Figure size 432x288 with 1 Axes>"
      ]
     },
     "metadata": {
      "needs_background": "light"
     },
     "output_type": "display_data"
    }
   ],
   "source": [
    "# Plotting the test image \n",
    "cv2_imshow(X_test[1])\n",
    "i=y_test.Label[1]\n",
    "i=np.argmax(i)\n",
    "if(i == 0):\n",
    "    plt.title(\"Bread\")\n",
    "if(i==1):\n",
    "    plt.title(\"Soup\")\n",
    "if(i==2):\n",
    "    plt.title(\"Vegetable-Fruit\")\n",
    "\n",
    "plt.axis('off')\n",
    "plt.show()"
   ]
  },
  {
   "cell_type": "code",
   "execution_count": null,
   "metadata": {
    "id": "xBeqTIrAL4vV"
   },
   "outputs": [],
   "source": [
    "# Predicting the test image with the best model and storing the prediction value in res variable\n",
    "res=model_3.predict(X_test[1].reshape(1,150,150,3))"
   ]
  },
  {
   "cell_type": "code",
   "execution_count": null,
   "metadata": {
    "colab": {
     "base_uri": "https://localhost:8080/"
    },
    "id": "638rTEzOMZ2C",
    "outputId": "8fab9d7e-e0ef-4e51-83d3-f5e6ba7bed2c"
   },
   "outputs": [
    {
     "name": "stdout",
     "output_type": "stream",
     "text": [
      "Bread\n"
     ]
    }
   ],
   "source": [
    "# Applying argmax on the prediction to get the highest index value\n",
    "i=np.argmax(res)\n",
    "if(i == 0):\n",
    "    print(\"Bread\")\n",
    "if(i==1):\n",
    "    print(\"Soup\")\n",
    "if(i==2):\n",
    "    print(\"Vegetable-Fruit\")"
   ]
  },
  {
   "cell_type": "markdown",
   "metadata": {
    "id": "1nw9mwhsp6A6"
   },
   "source": [
    "### **Conclusion**"
   ]
  },
  {
   "cell_type": "markdown",
   "metadata": {
    "id": "J1mRIsCCo_nj"
   },
   "source": [
    "1. As we have seen, the CNN model - 2 was able to predict the test image correctly with a test accuracy of 78%.\n",
    "\n",
    "2. **There is still scope for improvement in the test accuracy of the CNN model** chosen here. **Different architectures** and **optimizers** can be used to built to obtain a better food classifier. \n",
    "\n",
    "3. Transfer learning (Which will be covered in the next week) can be applied to the dataset to improve the accuracy. \n",
    "\n",
    "4. Once the desired performance is achieved from the model, the company can use it to classify different images being uploaded to the website.\n"
   ]
  },
  {
   "cell_type": "markdown",
   "metadata": {
    "id": "GjrtmYLB7Lhy"
   },
   "source": [
    "#### Things to try\n",
    "\n",
    "\n",
    "\n",
    "1. Try to improve the best model (CNN model-2) by changing the hyperparameters such as \n",
    "- Number of filters\n",
    "- Filter size \n",
    "- Activation function\n",
    "- Dropout ratio \n",
    "and see if you can increase accuracy. \n",
    "\n",
    "\n",
    "## Happy Learning!"
   ]
  }
 ],
 "metadata": {
  "accelerator": "GPU",
  "colab": {
   "collapsed_sections": [],
   "name": "Food_Image_classification.ipynb",
   "provenance": []
  },
  "kernelspec": {
   "display_name": "Python 3 (ipykernel)",
   "language": "python",
   "name": "python3"
  },
  "language_info": {
   "codemirror_mode": {
    "name": "ipython",
    "version": 3
   },
   "file_extension": ".py",
   "mimetype": "text/x-python",
   "name": "python",
   "nbconvert_exporter": "python",
   "pygments_lexer": "ipython3",
   "version": "3.9.15"
  }
 },
 "nbformat": 4,
 "nbformat_minor": 1
}
